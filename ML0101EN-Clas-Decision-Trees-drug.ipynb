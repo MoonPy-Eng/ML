{
 "cells": [
  {
   "cell_type": "markdown",
   "metadata": {},
   "source": [
    "<p style=\"text-align:center\">\n",
    "    <a href=\"https://skills.network/?utm_medium=Exinfluencer&utm_source=Exinfluencer&utm_content=000026UJ&utm_term=10006555&utm_id=NA-SkillsNetwork-Channel-SkillsNetworkCoursesIBMDeveloperSkillsNetworkML0101ENSkillsNetwork20718538-2022-01-01\" target=\"_blank\">\n",
    "    <img src=\"https://cf-courses-data.s3.us.cloud-object-storage.appdomain.cloud/assets/logos/SN_web_lightmode.png\" width=\"200\" alt=\"Skills Network Logo\">\n",
    "    </a>\n",
    "</p>\n",
    "\n",
    "# Decision Trees\n",
    "\n",
    "Estimated time needed: **15** minutes\n",
    "\n",
    "## Objectives\n",
    "\n",
    "After completing this lab you will be able to:\n",
    "\n",
    "*   Develop a classification model using Decision Tree Algorithm\n"
   ]
  },
  {
   "cell_type": "markdown",
   "metadata": {},
   "source": [
    "In this lab exercise, you will learn a popular machine learning algorithm, Decision Trees. You will use this classification algorithm to build a model from the historical data of patients, and their response to different medications. Then you will use the trained decision tree to predict the class of an unknown patient, or to find a proper drug for a new patient.\n"
   ]
  },
  {
   "cell_type": "markdown",
   "metadata": {},
   "source": [
    "<h1>Table of contents</h1>\n",
    "\n",
    "<div class=\"alert alert-block alert-info\" style=\"margin-top: 20px\">\n",
    "    <ol>\n",
    "        <li><a href=\"https://#about_dataset\">About the dataset</a></li>\n",
    "        <li><a href=\"https://#downloading_data\">Downloading the Data</a></li>\n",
    "        <li><a href=\"https://#pre-processing\">Pre-processing</a></li>\n",
    "        <li><a href=\"https://#setting_up_tree\">Setting up the Decision Tree</a></li>\n",
    "        <li><a href=\"https://#modeling\">Modeling</a></li>\n",
    "        <li><a href=\"https://#prediction\">Prediction</a></li>\n",
    "        <li><a href=\"https://#evaluation\">Evaluation</a></li>\n",
    "        <li><a href=\"https://#visualization\">Visualization</a></li>\n",
    "    </ol>\n",
    "</div>\n",
    "<br>\n",
    "<hr>\n"
   ]
  },
  {
   "cell_type": "markdown",
   "metadata": {},
   "source": [
    "Import the Following Libraries:\n",
    "\n",
    "<ul>\n",
    "    <li> <b>numpy (as np)</b> </li>\n",
    "    <li> <b>pandas</b> </li>\n",
    "    <li> <b>DecisionTreeClassifier</b> from <b>sklearn.tree</b> </li>\n",
    "</ul>\n"
   ]
  },
  {
   "cell_type": "markdown",
   "metadata": {},
   "source": [
    "if you uisng you own version comment out\n"
   ]
  },
  {
   "cell_type": "code",
   "execution_count": 9,
   "metadata": {
    "tags": []
   },
   "outputs": [],
   "source": [
    "# Surpress warnings:\n",
    "def warn(*args, **kwargs):\n",
    "    pass\n",
    "import warnings\n",
    "warnings.warn = warn"
   ]
  },
  {
   "cell_type": "code",
   "execution_count": 15,
   "metadata": {
    "tags": []
   },
   "outputs": [],
   "source": [
    "import sys\n",
    "import numpy as np \n",
    "import pandas as pd\n",
    "from sklearn.tree import DecisionTreeClassifier\n",
    "import sklearn.tree as tree"
   ]
  },
  {
   "cell_type": "markdown",
   "metadata": {},
   "source": [
    "<div id=\"about_dataset\">\n",
    "    <h2>About the dataset</h2>\n",
    "    Imagine that you are a medical researcher compiling data for a study. You have collected data about a set of patients, all of whom suffered from the same illness. During their course of treatment, each patient responded to one of 5 medications, Drug A, Drug B, Drug c, Drug x and y. \n",
    "    <br>\n",
    "    <br>\n",
    "    Part of your job is to build a model to find out which drug might be appropriate for a future patient with the same illness. The features of this dataset are Age, Sex, Blood Pressure, and the Cholesterol of the patients, and the target is the drug that each patient responded to.\n",
    "    <br>\n",
    "    <br>\n",
    "    It is a sample of multiclass classifier, and you can use the training part of the dataset \n",
    "    to build a decision tree, and then use it to predict the class of an unknown patient, or to prescribe a drug to a new patient.\n",
    "</div>\n"
   ]
  },
  {
   "cell_type": "markdown",
   "metadata": {},
   "source": [
    "<div id=\"downloading_data\"> \n",
    "    <h2>Downloading the Data</h2>\n",
    "    To download the data, we will use pandas library to read itdirectly into a dataframe from IBM Object Storage.\n",
    "</div>\n"
   ]
  },
  {
   "cell_type": "code",
   "execution_count": 16,
   "metadata": {
    "tags": []
   },
   "outputs": [
    {
     "data": {
      "text/html": [
       "<div>\n",
       "<style scoped>\n",
       "    .dataframe tbody tr th:only-of-type {\n",
       "        vertical-align: middle;\n",
       "    }\n",
       "\n",
       "    .dataframe tbody tr th {\n",
       "        vertical-align: top;\n",
       "    }\n",
       "\n",
       "    .dataframe thead th {\n",
       "        text-align: right;\n",
       "    }\n",
       "</style>\n",
       "<table border=\"1\" class=\"dataframe\">\n",
       "  <thead>\n",
       "    <tr style=\"text-align: right;\">\n",
       "      <th></th>\n",
       "      <th>Age</th>\n",
       "      <th>Sex</th>\n",
       "      <th>BP</th>\n",
       "      <th>Cholesterol</th>\n",
       "      <th>Na_to_K</th>\n",
       "      <th>Drug</th>\n",
       "    </tr>\n",
       "  </thead>\n",
       "  <tbody>\n",
       "    <tr>\n",
       "      <th>0</th>\n",
       "      <td>23</td>\n",
       "      <td>F</td>\n",
       "      <td>HIGH</td>\n",
       "      <td>HIGH</td>\n",
       "      <td>25.355</td>\n",
       "      <td>drugY</td>\n",
       "    </tr>\n",
       "    <tr>\n",
       "      <th>1</th>\n",
       "      <td>47</td>\n",
       "      <td>M</td>\n",
       "      <td>LOW</td>\n",
       "      <td>HIGH</td>\n",
       "      <td>13.093</td>\n",
       "      <td>drugC</td>\n",
       "    </tr>\n",
       "    <tr>\n",
       "      <th>2</th>\n",
       "      <td>47</td>\n",
       "      <td>M</td>\n",
       "      <td>LOW</td>\n",
       "      <td>HIGH</td>\n",
       "      <td>10.114</td>\n",
       "      <td>drugC</td>\n",
       "    </tr>\n",
       "    <tr>\n",
       "      <th>3</th>\n",
       "      <td>28</td>\n",
       "      <td>F</td>\n",
       "      <td>NORMAL</td>\n",
       "      <td>HIGH</td>\n",
       "      <td>7.798</td>\n",
       "      <td>drugX</td>\n",
       "    </tr>\n",
       "    <tr>\n",
       "      <th>4</th>\n",
       "      <td>61</td>\n",
       "      <td>F</td>\n",
       "      <td>LOW</td>\n",
       "      <td>HIGH</td>\n",
       "      <td>18.043</td>\n",
       "      <td>drugY</td>\n",
       "    </tr>\n",
       "  </tbody>\n",
       "</table>\n",
       "</div>"
      ],
      "text/plain": [
       "   Age Sex      BP Cholesterol  Na_to_K   Drug\n",
       "0   23   F    HIGH        HIGH   25.355  drugY\n",
       "1   47   M     LOW        HIGH   13.093  drugC\n",
       "2   47   M     LOW        HIGH   10.114  drugC\n",
       "3   28   F  NORMAL        HIGH    7.798  drugX\n",
       "4   61   F     LOW        HIGH   18.043  drugY"
      ]
     },
     "execution_count": 16,
     "metadata": {},
     "output_type": "execute_result"
    }
   ],
   "source": [
    "my_data = pd.read_csv('https://cf-courses-data.s3.us.cloud-object-storage.appdomain.cloud/IBMDeveloperSkillsNetwork-ML0101EN-SkillsNetwork/labs/Module%203/data/drug200.csv', delimiter=\",\")\n",
    "my_data.head()"
   ]
  },
  {
   "cell_type": "markdown",
   "metadata": {},
   "source": [
    "<div id=\"practice\"> \n",
    "    <h3>Practice</h3> \n",
    "    What is the size of data? \n",
    "</div>\n"
   ]
  },
  {
   "cell_type": "code",
   "execution_count": 11,
   "metadata": {
    "tags": []
   },
   "outputs": [
    {
     "data": {
      "text/plain": [
       "(200, 6)"
      ]
     },
     "execution_count": 11,
     "metadata": {},
     "output_type": "execute_result"
    }
   ],
   "source": [
    "# write your code here\n",
    "my_data.shape\n",
    "\n"
   ]
  },
  {
   "cell_type": "markdown",
   "metadata": {},
   "source": [
    "<details><summary>Click here for the solution</summary>\n",
    "\n",
    "```python\n",
    "my_data.shape\n",
    "\n",
    "```\n",
    "\n",
    "</details>\n"
   ]
  },
  {
   "cell_type": "markdown",
   "metadata": {},
   "source": [
    "<div href=\"pre-processing\">\n",
    "    <h2>Pre-processing</h2>\n",
    "</div>\n"
   ]
  },
  {
   "cell_type": "markdown",
   "metadata": {},
   "source": [
    "Using <b>my_data</b> as the Drug.csv data read by pandas, declare the following variables: <br>\n",
    "\n",
    "<ul>\n",
    "    <li> <b> X </b> as the <b> Feature Matrix </b> (data of my_data) </li>\n",
    "    <li> <b> y </b> as the <b> response vector </b> (target) </li>\n",
    "</ul>\n"
   ]
  },
  {
   "cell_type": "markdown",
   "metadata": {},
   "source": [
    "Remove the column containing the target name since it doesn't contain numeric values.\n"
   ]
  },
  {
   "cell_type": "code",
   "execution_count": 17,
   "metadata": {
    "tags": []
   },
   "outputs": [
    {
     "data": {
      "text/plain": [
       "array([[23, 'F', 'HIGH', 'HIGH', 25.355],\n",
       "       [47, 'M', 'LOW', 'HIGH', 13.093],\n",
       "       [47, 'M', 'LOW', 'HIGH', 10.114],\n",
       "       [28, 'F', 'NORMAL', 'HIGH', 7.798],\n",
       "       [61, 'F', 'LOW', 'HIGH', 18.043]], dtype=object)"
      ]
     },
     "execution_count": 17,
     "metadata": {},
     "output_type": "execute_result"
    }
   ],
   "source": [
    "X = my_data[['Age', 'Sex', 'BP', 'Cholesterol', 'Na_to_K']].values\n",
    "X[0:5]\n"
   ]
  },
  {
   "cell_type": "markdown",
   "metadata": {},
   "source": [
    "As you may figure out, some features in this dataset are categorical, such as **Sex** or **BP**. Unfortunately, Sklearn Decision Trees does not handle categorical variables. We can still convert these features to numerical values using the **LabelEncoder() method**\n",
    "to convert the categorical variable into dummy/indicator variables.\n"
   ]
  },
  {
   "cell_type": "code",
   "execution_count": 18,
   "metadata": {
    "tags": []
   },
   "outputs": [
    {
     "data": {
      "text/plain": [
       "array([[23, 0, 0, 0, 25.355],\n",
       "       [47, 1, 1, 0, 13.093],\n",
       "       [47, 1, 1, 0, 10.114],\n",
       "       [28, 0, 2, 0, 7.798],\n",
       "       [61, 0, 1, 0, 18.043]], dtype=object)"
      ]
     },
     "execution_count": 18,
     "metadata": {},
     "output_type": "execute_result"
    }
   ],
   "source": [
    "\n",
    "from sklearn import preprocessing\n",
    "le_sex = preprocessing.LabelEncoder()\n",
    "le_sex.fit(['F','M'])\n",
    "X[:,1] = le_sex.transform(X[:,1]) \n",
    "\n",
    "\n",
    "le_BP = preprocessing.LabelEncoder()\n",
    "le_BP.fit([ 'LOW', 'NORMAL', 'HIGH'])\n",
    "X[:,2] = le_BP.transform(X[:,2])\n",
    "\n",
    "\n",
    "le_Chol = preprocessing.LabelEncoder()\n",
    "le_Chol.fit([ 'NORMAL', 'HIGH'])\n",
    "X[:,3] = le_Chol.transform(X[:,3]) \n",
    "\n",
    "X[0:5]\n"
   ]
  },
  {
   "cell_type": "markdown",
   "metadata": {},
   "source": [
    "Now we can fill the target variable.\n"
   ]
  },
  {
   "cell_type": "code",
   "execution_count": 19,
   "metadata": {},
   "outputs": [
    {
     "data": {
      "text/plain": [
       "0    drugY\n",
       "1    drugC\n",
       "2    drugC\n",
       "3    drugX\n",
       "4    drugY\n",
       "Name: Drug, dtype: object"
      ]
     },
     "execution_count": 19,
     "metadata": {},
     "output_type": "execute_result"
    }
   ],
   "source": [
    "y = my_data[\"Drug\"]\n",
    "y[0:5]"
   ]
  },
  {
   "cell_type": "markdown",
   "metadata": {},
   "source": [
    "<hr>\n",
    "\n",
    "<div id=\"setting_up_tree\">\n",
    "    <h2>Setting up the Decision Tree</h2>\n",
    "    We will be using <b>train/test split</b> on our <b>decision tree</b>. Let's import <b>train_test_split</b> from <b>sklearn.cross_validation</b>.\n",
    "</div>\n"
   ]
  },
  {
   "cell_type": "code",
   "execution_count": 20,
   "metadata": {},
   "outputs": [],
   "source": [
    "from sklearn.model_selection import train_test_split"
   ]
  },
  {
   "cell_type": "markdown",
   "metadata": {},
   "source": [
    "Now <b> train_test_split </b> will return 4 different parameters. We will name them:<br>\n",
    "X_trainset, X_testset, y_trainset, y_testset <br> <br>\n",
    "The <b> train_test_split </b> will need the parameters: <br>\n",
    "X, y, test_size=0.3, and random_state=3. <br> <br>\n",
    "The <b>X</b> and <b>y</b> are the arrays required before the split, the <b>test_size</b> represents the ratio of the testing dataset, and the <b>random_state</b> ensures that we obtain the same splits.\n"
   ]
  },
  {
   "cell_type": "code",
   "execution_count": 23,
   "metadata": {},
   "outputs": [],
   "source": [
    "X_trainset, X_testset, y_trainset, y_testset = train_test_split(X, y, test_size=0.3, random_state=3)"
   ]
  },
  {
   "cell_type": "markdown",
   "metadata": {},
   "source": [
    "<h3>Practice</h3>\n",
    "Print the shape of X_trainset and y_trainset. Ensure that the dimensions match.\n"
   ]
  },
  {
   "cell_type": "code",
   "execution_count": 24,
   "metadata": {},
   "outputs": [
    {
     "name": "stdout",
     "output_type": "stream",
     "text": [
      "Shape of X training set (140, 5) &  Size of Y training set (140,)\n"
     ]
    }
   ],
   "source": [
    "# your code\n",
    "\n",
    "print('Shape of X training set {}'.format(X_trainset.shape),'&',' Size of Y training set {}'.format(y_trainset.shape))"
   ]
  },
  {
   "cell_type": "markdown",
   "metadata": {},
   "source": [
    "<details><summary>Click here for the solution</summary>\n",
    "\n",
    "```python\n",
    "print('Shape of X training set {}'.format(X_trainset.shape),'&',' Size of Y training set {}'.format(y_trainset.shape))\n",
    "\n",
    "```\n",
    "\n",
    "</details>\n"
   ]
  },
  {
   "cell_type": "markdown",
   "metadata": {},
   "source": [
    "Print the shape of X_testset and y_testset. Ensure that the dimensions match.\n"
   ]
  },
  {
   "cell_type": "code",
   "execution_count": 25,
   "metadata": {},
   "outputs": [
    {
     "name": "stdout",
     "output_type": "stream",
     "text": [
      "Shape of X training set (140, 5) &  Size of Y training set (140,)\n"
     ]
    }
   ],
   "source": [
    "# your code\n",
    "\n",
    "print('Shape of X training set {}'.format(X_trainset.shape),'&',' Size of Y training set {}'.format(y_trainset.shape))\n"
   ]
  },
  {
   "cell_type": "markdown",
   "metadata": {},
   "source": [
    "<details><summary>Click here for the solution</summary>\n",
    "\n",
    "```python\n",
    "print('Shape of X test set {}'.format(X_testset.shape),'&','Size of y test set {}'.format(y_testset.shape))\n",
    "\n",
    "```\n",
    "\n",
    "</details>\n"
   ]
  },
  {
   "cell_type": "markdown",
   "metadata": {},
   "source": [
    "<hr>\n",
    "\n",
    "<div id=\"modeling\">\n",
    "    <h2>Modeling</h2>\n",
    "    We will first create an instance of the <b>DecisionTreeClassifier</b> called <b>drugTree</b>.<br>\n",
    "    Inside of the classifier, specify <i> criterion=\"entropy\" </i> so we can see the information gain of each node.\n",
    "</div>\n"
   ]
  },
  {
   "cell_type": "code",
   "execution_count": 26,
   "metadata": {},
   "outputs": [
    {
     "data": {
      "text/plain": [
       "DecisionTreeClassifier(class_weight=None, criterion='entropy', max_depth=4,\n",
       "            max_features=None, max_leaf_nodes=None,\n",
       "            min_impurity_decrease=0.0, min_impurity_split=None,\n",
       "            min_samples_leaf=1, min_samples_split=2,\n",
       "            min_weight_fraction_leaf=0.0, presort=False, random_state=None,\n",
       "            splitter='best')"
      ]
     },
     "execution_count": 26,
     "metadata": {},
     "output_type": "execute_result"
    }
   ],
   "source": [
    "drugTree = DecisionTreeClassifier(criterion=\"entropy\", max_depth = 4)\n",
    "drugTree # it shows the default parameters"
   ]
  },
  {
   "cell_type": "markdown",
   "metadata": {},
   "source": [
    "Next, we will fit the data with the training feature matrix <b> X_trainset </b> and training  response vector <b> y_trainset </b>\n"
   ]
  },
  {
   "cell_type": "code",
   "execution_count": 27,
   "metadata": {},
   "outputs": [
    {
     "data": {
      "text/plain": [
       "DecisionTreeClassifier(class_weight=None, criterion='entropy', max_depth=4,\n",
       "            max_features=None, max_leaf_nodes=None,\n",
       "            min_impurity_decrease=0.0, min_impurity_split=None,\n",
       "            min_samples_leaf=1, min_samples_split=2,\n",
       "            min_weight_fraction_leaf=0.0, presort=False, random_state=None,\n",
       "            splitter='best')"
      ]
     },
     "execution_count": 27,
     "metadata": {},
     "output_type": "execute_result"
    }
   ],
   "source": [
    "drugTree.fit(X_trainset,y_trainset)"
   ]
  },
  {
   "cell_type": "markdown",
   "metadata": {},
   "source": [
    "<hr>\n",
    "\n",
    "<div id=\"prediction\">\n",
    "    <h2>Prediction</h2>\n",
    "    Let's make some <b>predictions</b> on the testing dataset and store it into a variable called <b>predTree</b>.\n",
    "</div>\n"
   ]
  },
  {
   "cell_type": "code",
   "execution_count": 28,
   "metadata": {},
   "outputs": [],
   "source": [
    "predTree = drugTree.predict(X_testset)"
   ]
  },
  {
   "cell_type": "markdown",
   "metadata": {},
   "source": [
    "You can print out <b>predTree</b> and <b>y_testset</b> if you want to visually compare the predictions to the actual values.\n"
   ]
  },
  {
   "cell_type": "code",
   "execution_count": 29,
   "metadata": {},
   "outputs": [
    {
     "name": "stdout",
     "output_type": "stream",
     "text": [
      "['drugY' 'drugX' 'drugX' 'drugX' 'drugX']\n",
      "40     drugY\n",
      "51     drugX\n",
      "139    drugX\n",
      "197    drugX\n",
      "170    drugX\n",
      "Name: Drug, dtype: object\n"
     ]
    }
   ],
   "source": [
    "print (predTree [0:5])\n",
    "print (y_testset [0:5])\n"
   ]
  },
  {
   "cell_type": "markdown",
   "metadata": {},
   "source": [
    "<hr>\n",
    "\n",
    "<div id=\"evaluation\">\n",
    "    <h2>Evaluation</h2>\n",
    "    Next, let's import <b>metrics</b> from sklearn and check the accuracy of our model.\n",
    "</div>\n"
   ]
  },
  {
   "cell_type": "code",
   "execution_count": 30,
   "metadata": {},
   "outputs": [
    {
     "name": "stdout",
     "output_type": "stream",
     "text": [
      "DecisionTrees's Accuracy:  0.9833333333333333\n"
     ]
    }
   ],
   "source": [
    "from sklearn import metrics\n",
    "import matplotlib.pyplot as plt\n",
    "print(\"DecisionTrees's Accuracy: \", metrics.accuracy_score(y_testset, predTree))"
   ]
  },
  {
   "cell_type": "markdown",
   "metadata": {},
   "source": [
    "**Accuracy classification score** computes subset accuracy: the set of labels predicted for a sample must exactly match the corresponding set of labels in y_true.\n",
    "\n",
    "In multilabel classification, the function returns the subset accuracy. If the entire set of predicted labels for a sample strictly matches with the true set of labels, then the subset accuracy is 1.0; otherwise it is 0.0.\n"
   ]
  },
  {
   "cell_type": "markdown",
   "metadata": {},
   "source": [
    "<hr>\n",
    "\n",
    "<div id=\"visualization\">\n",
    "    <h2>Visualization</h2>\n",
    "\n",
    "Let's visualize the tree\n",
    "\n",
    "</div>\n"
   ]
  },
  {
   "cell_type": "code",
   "execution_count": null,
   "metadata": {},
   "outputs": [
    {
     "name": "stdout",
     "output_type": "stream",
     "text": [
      "Collecting package metadata (current_repodata.json): done\n",
      "Solving environment: done\n",
      "\n",
      "## Package Plan ##\n",
      "\n",
      "  environment location: /home/jupyterlab/conda\n",
      "\n",
      "  added / updated specs:\n",
      "    - conda\n",
      "\n",
      "\n",
      "The following packages will be downloaded:\n",
      "\n",
      "    package                    |            build\n",
      "    ---------------------------|-----------------\n",
      "    _openmp_mutex-4.5          |            2_gnu          23 KB  conda-forge\n",
      "    archspec-0.2.3             |     pyhd8ed1ab_0          48 KB  conda-forge\n",
      "    boltons-24.0.0             |     pyhd8ed1ab_1         290 KB  conda-forge\n",
      "    brotli-python-1.1.0        |  py310hf71b8c6_2         341 KB  conda-forge\n",
      "    bzip2-1.0.8                |       h4bc722e_7         247 KB  conda-forge\n",
      "    c-ares-1.34.4              |       hb9d3cd8_0         201 KB  conda-forge\n",
      "    certifi-2024.12.14         |     pyhd8ed1ab_0         158 KB  conda-forge\n",
      "    cffi-1.17.1                |  py310h8deb56e_0         238 KB  conda-forge\n",
      "    charset-normalizer-3.4.0   |     pyhd8ed1ab_1          46 KB  conda-forge\n",
      "    colorama-0.4.6             |     pyhd8ed1ab_1          26 KB  conda-forge\n",
      "    conda-24.11.2              |  py310hff52083_0         906 KB  conda-forge\n",
      "    conda-libmamba-solver-24.11.1|     pyhd8ed1ab_0          40 KB  conda-forge\n",
      "    conda-package-handling-2.4.0|     pyha770c72_1         252 KB  conda-forge\n",
      "    conda-package-streaming-0.11.0|     pyhd8ed1ab_0          20 KB  conda-forge\n",
      "    cpp-expected-1.1.0         |       hf52228f_0          23 KB  conda-forge\n",
      "    cryptography-44.0.0        |  py310h6c63255_0         1.5 MB  conda-forge\n",
      "    distro-1.9.0               |     pyhd8ed1ab_1          41 KB  conda-forge\n",
      "    fmt-11.0.2                 |       h434a139_0         194 KB  conda-forge\n",
      "    frozendict-2.4.6           |  py310ha75aee5_0          48 KB  conda-forge\n",
      "    h2-4.1.0                   |     pyhd8ed1ab_1          51 KB  conda-forge\n",
      "    hpack-4.0.0                |     pyhd8ed1ab_1          29 KB  conda-forge\n",
      "    hyperframe-6.0.1           |     pyhd8ed1ab_1          17 KB  conda-forge\n",
      "    icu-73.2                   |       h59595ed_0        11.5 MB  conda-forge\n",
      "    idna-3.10                  |     pyhd8ed1ab_1          49 KB  conda-forge\n",
      "    jsonpatch-1.33             |     pyhd8ed1ab_1          17 KB  conda-forge\n",
      "    jsonpointer-3.0.0          |  py310hff52083_1          15 KB  conda-forge\n",
      "    ld_impl_linux-64-2.43      |       h712a8e2_2         654 KB  conda-forge\n",
      "    libarchive-3.7.7           |       hfab0078_0         936 KB\n",
      "    libcurl-8.11.1             |       hc9e6f67_0         454 KB\n",
      "    libev-4.33                 |       hd590300_2         110 KB  conda-forge\n",
      "    libffi-3.4.2               |       h7f98852_5          57 KB  conda-forge\n",
      "    libgcc-14.2.0              |       h77fa898_1         829 KB  conda-forge\n",
      "    libgcc-ng-14.2.0           |       h69a702a_1          53 KB  conda-forge\n",
      "    libgomp-14.2.0             |       h77fa898_1         450 KB  conda-forge\n",
      "    liblzma-5.6.3              |       hb9d3cd8_1         109 KB  conda-forge\n",
      "    liblzma-devel-5.6.3        |       hb9d3cd8_1         368 KB  conda-forge\n",
      "    libmamba-2.0.5             |       hf72d635_0         1.9 MB  conda-forge\n",
      "    libmambapy-2.0.5           |  py310h6639945_0         614 KB  conda-forge\n",
      "    libnghttp2-1.57.0          |       h2d74bed_0         674 KB\n",
      "    libnsl-2.0.1               |       hd590300_0          33 KB  conda-forge\n",
      "    libsolv-0.7.30             |       he621ea3_1         492 KB\n",
      "    libssh2-1.11.1             |       h251f7ec_0         308 KB\n",
      "    libstdcxx-14.2.0           |       hc0a3c3a_1         3.7 MB  conda-forge\n",
      "    libstdcxx-ng-14.2.0        |       h4852527_1          53 KB  conda-forge\n",
      "    libxml2-2.13.5             |       hfdd30dd_0         738 KB\n",
      "    mamba-2.0.5                |       hfdd0a45_0         466 KB  conda-forge\n",
      "    menuinst-2.2.0             |  py310hff52083_0         137 KB  conda-forge\n",
      "    ncurses-6.5                |       he02047a_1         868 KB  conda-forge\n",
      "    nlohmann_json-3.11.3       |       he02047a_1         120 KB  conda-forge\n",
      "    openssl-3.4.0              |       hb9d3cd8_0         2.8 MB  conda-forge\n",
      "    packaging-24.2             |     pyhd8ed1ab_2          59 KB  conda-forge\n",
      "    pcre2-10.42                |       hcad00b1_0         993 KB  conda-forge\n",
      "    platformdirs-4.3.6         |     pyhd8ed1ab_1          20 KB  conda-forge\n",
      "    pluggy-1.5.0               |     pyhd8ed1ab_1          23 KB  conda-forge\n",
      "    pycosat-0.6.6              |  py310ha75aee5_2          83 KB  conda-forge\n",
      "    pycparser-2.22             |     pyh29332c3_1         108 KB  conda-forge\n",
      "    pysocks-1.7.1              |     pyha55dd90_7          21 KB  conda-forge\n",
      "    python_abi-3.10            |          5_cp310           6 KB  conda-forge\n",
      "    readline-8.2               |       h8228510_1         275 KB  conda-forge\n",
      "    reproc-14.2.5.post0        |       hb9d3cd8_0          33 KB  conda-forge\n",
      "    reproc-cpp-14.2.5.post0    |       h5888daf_0          25 KB  conda-forge\n",
      "    requests-2.32.3            |     pyhd8ed1ab_1          57 KB  conda-forge\n",
      "    ruamel.yaml-0.18.6         |  py310ha75aee5_1         198 KB  conda-forge\n",
      "    ruamel.yaml.clib-0.2.8     |  py310ha75aee5_1         143 KB  conda-forge\n",
      "    simdjson-3.11.3            |       h84d6215_0         241 KB  conda-forge\n",
      "    six-1.17.0                 |     pyhd8ed1ab_0          16 KB  conda-forge\n",
      "    spdlog-1.14.1              |       hed91bc2_1         191 KB  conda-forge\n",
      "    tk-8.6.13                  |noxft_h4845f30_101         3.2 MB  conda-forge\n",
      "    tqdm-4.67.1                |     pyhd8ed1ab_0          87 KB  conda-forge\n",
      "    truststore-0.10.0          |     pyhd8ed1ab_0          21 KB  conda-forge\n",
      "    tzdata-2024b               |       hc8b5060_0         119 KB  conda-forge\n",
      "    urllib3-2.3.0              |     pyhd8ed1ab_0          98 KB  conda-forge\n",
      "    xz-5.6.3                   |       hbcc6ac9_1          23 KB  conda-forge\n",
      "    xz-gpl-tools-5.6.3         |       hbcc6ac9_1          33 KB  conda-forge\n",
      "    xz-tools-5.6.3             |       hb9d3cd8_1          88 KB  conda-forge\n",
      "    yaml-cpp-0.8.0             |       h59595ed_0         200 KB  conda-forge\n",
      "    zstandard-0.23.0           |  py310ha39cb0e_1         399 KB  conda-forge\n",
      "    zstd-1.5.6                 |       ha6fb4c9_0         542 KB  conda-forge\n",
      "    ------------------------------------------------------------\n",
      "                                           Total:        40.2 MB\n",
      "\n",
      "The following NEW packages will be INSTALLED:\n",
      "\n",
      "  archspec           conda-forge/noarch::archspec-0.2.3-pyhd8ed1ab_0 \n",
      "  brotli-python      conda-forge/linux-64::brotli-python-1.1.0-py310hf71b8c6_2 \n",
      "  colorama           conda-forge/noarch::colorama-0.4.6-pyhd8ed1ab_1 \n",
      "  conda-libmamba-so~ conda-forge/noarch::conda-libmamba-solver-24.11.1-pyhd8ed1ab_0 \n",
      "  cpp-expected       conda-forge/linux-64::cpp-expected-1.1.0-hf52228f_0 \n",
      "  distro             conda-forge/noarch::distro-1.9.0-pyhd8ed1ab_1 \n",
      "  frozendict         conda-forge/linux-64::frozendict-2.4.6-py310ha75aee5_0 \n",
      "  h2                 conda-forge/noarch::h2-4.1.0-pyhd8ed1ab_1 \n",
      "  hpack              conda-forge/noarch::hpack-4.0.0-pyhd8ed1ab_1 \n",
      "  hyperframe         conda-forge/noarch::hyperframe-6.0.1-pyhd8ed1ab_1 \n",
      "  libgcc             conda-forge/linux-64::libgcc-14.2.0-h77fa898_1 \n",
      "  libgomp            conda-forge/linux-64::libgomp-14.2.0-h77fa898_1 \n",
      "  liblzma            conda-forge/linux-64::liblzma-5.6.3-hb9d3cd8_1 \n",
      "  liblzma-devel      conda-forge/linux-64::liblzma-devel-5.6.3-hb9d3cd8_1 \n",
      "  libstdcxx          conda-forge/linux-64::libstdcxx-14.2.0-hc0a3c3a_1 \n",
      "  menuinst           conda-forge/linux-64::menuinst-2.2.0-py310hff52083_0 \n",
      "  nlohmann_json      conda-forge/linux-64::nlohmann_json-3.11.3-he02047a_1 \n",
      "  pcre2              conda-forge/linux-64::pcre2-10.42-hcad00b1_0 \n",
      "  platformdirs       conda-forge/noarch::platformdirs-4.3.6-pyhd8ed1ab_1 \n",
      "  simdjson           conda-forge/linux-64::simdjson-3.11.3-h84d6215_0 \n",
      "  spdlog             conda-forge/linux-64::spdlog-1.14.1-hed91bc2_1 \n",
      "  truststore         conda-forge/noarch::truststore-0.10.0-pyhd8ed1ab_0 \n",
      "  xz-gpl-tools       conda-forge/linux-64::xz-gpl-tools-5.6.3-hbcc6ac9_1 \n",
      "  xz-tools           conda-forge/linux-64::xz-tools-5.6.3-hb9d3cd8_1 \n",
      "\n",
      "The following packages will be REMOVED:\n",
      "\n",
      "  brotlipy-0.7.0-py310h7f8727e_1002\n",
      "  libiconv-1.17-h166bdaf_0\n",
      "  llvm-openmp-16.0.3-h4dfa4b3_0\n",
      "  lzo-2.10-h516909a_1000\n",
      "  pyopenssl-23.0.0-py310h06a4308_0\n",
      "  sqlite-3.41.1-h5eee18b_0\n",
      "  toolz-0.12.0-py310h06a4308_0\n",
      "\n",
      "The following packages will be UPDATED:\n",
      "\n",
      "  _openmp_mutex                              4.5-2_kmp_llvm --> 4.5-2_gnu \n",
      "  boltons            pkgs/main/linux-64::boltons-23.0.0-py~ --> conda-forge/noarch::boltons-24.0.0-pyhd8ed1ab_1 \n",
      "  bzip2                   pkgs/main::bzip2-1.0.8-h7b6447c_0 --> conda-forge::bzip2-1.0.8-h4bc722e_7 \n",
      "  c-ares                                  1.19.0-hd590300_0 --> 1.34.4-hb9d3cd8_0 \n",
      "  ca-certificates                       2023.5.7-hbcca054_0 --> 2024.12.14-hbcca054_0 \n",
      "  certifi                             2023.5.7-pyhd8ed1ab_0 --> 2024.12.14-pyhd8ed1ab_0 \n",
      "  cffi               pkgs/main::cffi-1.15.1-py310h5eee18b_3 --> conda-forge::cffi-1.17.1-py310h8deb56e_0 \n",
      "  charset-normalizer pkgs/main::charset-normalizer-2.0.4-p~ --> conda-forge::charset-normalizer-3.4.0-pyhd8ed1ab_1 \n",
      "  conda                              23.3.1-py310hff52083_0 --> 24.11.2-py310hff52083_0 \n",
      "  conda-package-han~ pkgs/main/linux-64::conda-package-han~ --> conda-forge/noarch::conda-package-handling-2.4.0-pyha770c72_1 \n",
      "  conda-package-str~ pkgs/main/linux-64::conda-package-str~ --> conda-forge/noarch::conda-package-streaming-0.11.0-pyhd8ed1ab_0 \n",
      "  cryptography       pkgs/main::cryptography-39.0.1-py310h~ --> conda-forge::cryptography-44.0.0-py310h6c63255_0 \n",
      "  fmt                                      9.1.0-h924138e_0 --> 11.0.2-h434a139_0 \n",
      "  icu                                       72.1-hcb278e6_0 --> 73.2-h59595ed_0 \n",
      "  idna               pkgs/main/linux-64::idna-3.4-py310h06~ --> conda-forge/noarch::idna-3.10-pyhd8ed1ab_1 \n",
      "  jsonpatch          pkgs/main::jsonpatch-1.32-pyhd3eb1b0_0 --> conda-forge::jsonpatch-1.33-pyhd8ed1ab_1 \n",
      "  jsonpointer        pkgs/main/noarch::jsonpointer-2.1-pyh~ --> conda-forge/linux-64::jsonpointer-3.0.0-py310hff52083_1 \n",
      "  ld_impl_linux-64   pkgs/main::ld_impl_linux-64-2.38-h118~ --> conda-forge::ld_impl_linux-64-2.43-h712a8e2_2 \n",
      "  libarchive         conda-forge::libarchive-3.6.2-h039dbb~ --> pkgs/main::libarchive-3.7.7-hfab0078_0 \n",
      "  libcurl             conda-forge::libcurl-8.1.0-h409715c_0 --> pkgs/main::libcurl-8.11.1-hc9e6f67_0 \n",
      "  libev                                     4.33-h516909a_1 --> 4.33-hd590300_2 \n",
      "  libgcc-ng                              12.2.0-h65d4601_19 --> 14.2.0-h69a702a_1 \n",
      "  libmamba                                 1.4.2-hcea66bb_0 --> 2.0.5-hf72d635_0 \n",
      "  libmambapy                          1.4.2-py310h1428755_0 --> 2.0.5-py310h6639945_0 \n",
      "  libnghttp2         conda-forge::libnghttp2-1.52.0-h61bc0~ --> pkgs/main::libnghttp2-1.57.0-h2d74bed_0 \n",
      "  libnsl                                   2.0.0-h7f98852_0 --> 2.0.1-hd590300_0 \n",
      "  libsolv            conda-forge::libsolv-0.7.23-h3eb15da_0 --> pkgs/main::libsolv-0.7.30-he621ea3_1 \n",
      "  libssh2            conda-forge::libssh2-1.10.0-hf14f497_3 --> pkgs/main::libssh2-1.11.1-h251f7ec_0 \n",
      "  libstdcxx-ng                           12.2.0-h46fd767_19 --> 14.2.0-h4852527_1 \n",
      "  libxml2            conda-forge::libxml2-2.11.3-h0d562d8_1 --> pkgs/main::libxml2-2.13.5-hfdd30dd_0 \n",
      "  mamba                               1.4.2-py310h51d5547_0 --> 2.0.5-hfdd0a45_0 \n",
      "  ncurses                 pkgs/main::ncurses-6.4-h6a678d5_0 --> conda-forge::ncurses-6.5-he02047a_1 \n",
      "  openssl                                  3.1.0-hd590300_3 --> 3.4.0-hb9d3cd8_0 \n",
      "  packaging          pkgs/main/linux-64::packaging-23.0-py~ --> conda-forge/noarch::packaging-24.2-pyhd8ed1ab_2 \n",
      "  pluggy             pkgs/main/linux-64::pluggy-1.0.0-py31~ --> conda-forge/noarch::pluggy-1.5.0-pyhd8ed1ab_1 \n",
      "  pycosat            pkgs/main::pycosat-0.6.4-py310h5eee18~ --> conda-forge::pycosat-0.6.6-py310ha75aee5_2 \n",
      "  pycparser          pkgs/main::pycparser-2.21-pyhd3eb1b0_0 --> conda-forge::pycparser-2.22-pyh29332c3_1 \n",
      "  pysocks            pkgs/main/linux-64::pysocks-1.7.1-py3~ --> conda-forge/noarch::pysocks-1.7.1-pyha55dd90_7 \n",
      "  python_abi                                   3.10-3_cp310 --> 3.10-5_cp310 \n",
      "  readline               pkgs/main::readline-8.2-h5eee18b_0 --> conda-forge::readline-8.2-h8228510_1 \n",
      "  reproc                                  14.2.4-h0b41bf4_0 --> 14.2.5.post0-hb9d3cd8_0 \n",
      "  reproc-cpp                              14.2.4-hcb278e6_0 --> 14.2.5.post0-h5888daf_0 \n",
      "  requests           pkgs/main/linux-64::requests-2.28.1-p~ --> conda-forge/noarch::requests-2.32.3-pyhd8ed1ab_1 \n",
      "  ruamel.yaml        pkgs/main::ruamel.yaml-0.17.21-py310h~ --> conda-forge::ruamel.yaml-0.18.6-py310ha75aee5_1 \n",
      "  ruamel.yaml.clib   pkgs/main::ruamel.yaml.clib-0.2.6-py3~ --> conda-forge::ruamel.yaml.clib-0.2.8-py310ha75aee5_1 \n",
      "  six                    pkgs/main::six-1.16.0-pyhd3eb1b0_1 --> conda-forge::six-1.17.0-pyhd8ed1ab_0 \n",
      "  tk                        pkgs/main::tk-8.6.12-h1ccaba5_0 --> conda-forge::tk-8.6.13-noxft_h4845f30_101 \n",
      "  tqdm               pkgs/main/linux-64::tqdm-4.65.0-py310~ --> conda-forge/noarch::tqdm-4.67.1-pyhd8ed1ab_0 \n",
      "  tzdata                 pkgs/main::tzdata-2023c-h04d1e81_0 --> conda-forge::tzdata-2024b-hc8b5060_0 \n",
      "  urllib3            pkgs/main/linux-64::urllib3-1.26.15-p~ --> conda-forge/noarch::urllib3-2.3.0-pyhd8ed1ab_0 \n",
      "  xz                        pkgs/main::xz-5.2.10-h5eee18b_1 --> conda-forge::xz-5.6.3-hbcc6ac9_1 \n",
      "  yaml-cpp                                 0.7.0-h27087fc_2 --> 0.8.0-h59595ed_0 \n",
      "  zstandard          pkgs/main::zstandard-0.19.0-py310h5ee~ --> conda-forge::zstandard-0.23.0-py310ha39cb0e_1 \n",
      "  zstd                                     1.5.2-h3eb15da_6 --> 1.5.6-ha6fb4c9_0 \n",
      "\n",
      "The following packages will be SUPERSEDED by a higher-priority channel:\n",
      "\n",
      "  libffi                 pkgs/main::libffi-3.4.2-h6a678d5_6 --> conda-forge::libffi-3.4.2-h7f98852_5 \n",
      "\n",
      "\n",
      "Proceed ([y]/n)? "
     ]
    }
   ],
   "source": [
    "# Notice: You might need to uncomment and install the pydotplus and graphviz libraries if you have not installed these before\n",
    "#!conda install -c conda-forge pydotplus -y\n",
    "#!conda install -c conda-forge python-graphviz -y\n",
    "!conda update -n base -c conda-forge conda\n",
    "\n",
    "#After executing the code below, a file named 'tree.png' would be generated which contains the decision tree image."
   ]
  },
  {
   "cell_type": "code",
   "execution_count": null,
   "metadata": {},
   "outputs": [],
   "source": [
    "\n",
    "from sklearn.tree import export_graphviz\n",
    "export_graphviz(drugTree, out_file='tree.dot', filled=True, feature_names=['Age', 'Sex', 'BP', 'Cholesterol', 'Na_to_K'])\n",
    "!dot -Tpng tree.dot -o tree.png\n"
   ]
  },
  {
   "cell_type": "markdown",
   "metadata": {},
   "source": [
    "### Thank you for completing this lab!\n",
    "\n",
    "## Author\n",
    "\n",
    "Saeed Aghabozorgi\n",
    "\n",
    "### Other Contributors\n",
    "\n",
    "<a href=\"https://www.linkedin.com/in/joseph-s-50398b136/?utm_medium=Exinfluencer&utm_source=Exinfluencer&utm_content=000026UJ&utm_term=10006555&utm_id=NA-SkillsNetwork-Channel-SkillsNetworkCoursesIBMDeveloperSkillsNetworkML0101ENSkillsNetwork20718538-2022-01-01\" target=\"_blank\">Joseph Santarcangelo</a>\n",
    "\n",
    "<a href=\"https://www.linkedin.com/in/richard-ye/?utm_medium=Exinfluencer&utm_source=Exinfluencer&utm_content=000026UJ&utm_term=10006555&utm_id=NA-SkillsNetwork-Channel-SkillsNetworkCoursesIBMDeveloperSkillsNetworkML0101ENSkillsNetwork20718538-2022-01-01\" target=\"_blank\">Richard Ye</a>\n",
    "\n",
    "## <h3 align=\"center\"> © IBM Corporation 2020. All rights reserved. <h3/>\n",
    "    \n",
    "<!--\n",
    "## Change Log\n",
    "\n",
    "| Date (YYYY-MM-DD) | Version | Changed By | Change Description                               |\n",
    "| ----------------- | ------- | ---------- | ------------------------------------------------ |\n",
    "| 2022-05-24        | 2.3     | Richard Ye | Fixed ability to work in JupyterLite and locally |\n",
    "| 2020-11-20        | 2.2     | Lakshmi    | Changed import statement of StringIO             |\n",
    "| 2020-11-03        | 2.1     | Lakshmi    | Changed URL of the csv                           |\n",
    "| 2020-08-27        | 2.0     | Lavanya    | Moved lab to course repo in GitLab               |\n",
    "|                   |         |            |                                                  |\n",
    "|                   |         |            |                                                  |\n",
    "--!>\n",
    "\n"
   ]
  }
 ],
 "metadata": {
  "kernelspec": {
   "display_name": "Python",
   "language": "python",
   "name": "conda-env-python-py"
  },
  "language_info": {
   "codemirror_mode": {
    "name": "ipython",
    "version": 3
   },
   "file_extension": ".py",
   "mimetype": "text/x-python",
   "name": "python",
   "nbconvert_exporter": "python",
   "pygments_lexer": "ipython3",
   "version": "3.7.12"
  },
  "prev_pub_hash": "1228bf81fd1be0f6e7dda62256f4ffcb19b064217fc51f2e012abde9b84c2b0d"
 },
 "nbformat": 4,
 "nbformat_minor": 4
}
